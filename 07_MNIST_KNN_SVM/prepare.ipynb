{
  "cells": [
    {
      "metadata": {
        "_uuid": "8f2839f25d086af736a60e9eeb907d3b93b6e0e5",
        "_cell_guid": "b1076dfc-b9ad-4769-8c92-a6c4dae69d19",
        "trusted": true
      },
      "cell_type": "code",
      "source": "import numpy as np # linear algebra\nimport pandas as pd # data processing, CSV file I/O (e.g. pd.read_csv)\nimport os\nprint(os.listdir(\"../input\"))",
      "execution_count": 33,
      "outputs": [
        {
          "output_type": "stream",
          "text": "['mnist.pkl.gz']\n",
          "name": "stdout"
        }
      ]
    },
    {
      "metadata": {
        "_cell_guid": "79c7e3d0-c299-4dcb-8224-4455121ee9b0",
        "_uuid": "d629ff2d2480ee46fbb7e2d37f6b5fab8052498a",
        "trusted": true
      },
      "cell_type": "code",
      "source": "import gzip\nimport pickle",
      "execution_count": 34,
      "outputs": []
    },
    {
      "metadata": {
        "trusted": true,
        "_uuid": "28adc691b5b2c7ea516e8726a0f0f5e0bedc1c7a"
      },
      "cell_type": "code",
      "source": "# with gzip.open('../input/mnist.pkl.gz') as f:\n#     a = pickle.load(f, encoding='unicode-escape')\n    \n# /opt/conda/lib/python3.6/site-packages/ipykernel_launcher.py:2: \n# DeprecationWarning: invalid escape sequence '\\>'  \n# /opt/conda/lib/python3.6/site-packages/ipykernel_launcher.py:2: \n# DeprecationWarning: invalid escape sequence '\\?'",
      "execution_count": 36,
      "outputs": []
    },
    {
      "metadata": {
        "trusted": true,
        "_uuid": "ef04e7d4c128400090b4726467a7583a7a286732"
      },
      "cell_type": "code",
      "source": "with gzip.open('../input/mnist.pkl.gz') as f:\n    a = pickle.load(f, encoding='bytes')",
      "execution_count": 37,
      "outputs": []
    },
    {
      "metadata": {
        "trusted": true,
        "_uuid": "24a8a1cea1ef6a68cd2bd4082e2569dd667140f7",
        "_kg_hide-output": true,
        "scrolled": true
      },
      "cell_type": "code",
      "source": "a",
      "execution_count": 50,
      "outputs": [
        {
          "output_type": "execute_result",
          "execution_count": 50,
          "data": {
            "text/plain": "((array([[0., 0., 0., ..., 0., 0., 0.],\n         [0., 0., 0., ..., 0., 0., 0.],\n         [0., 0., 0., ..., 0., 0., 0.],\n         ...,\n         [0., 0., 0., ..., 0., 0., 0.],\n         [0., 0., 0., ..., 0., 0., 0.],\n         [0., 0., 0., ..., 0., 0., 0.]], dtype=float32),\n  array([5, 0, 4, ..., 8, 4, 8])),\n (array([[0., 0., 0., ..., 0., 0., 0.],\n         [0., 0., 0., ..., 0., 0., 0.],\n         [0., 0., 0., ..., 0., 0., 0.],\n         ...,\n         [0., 0., 0., ..., 0., 0., 0.],\n         [0., 0., 0., ..., 0., 0., 0.],\n         [0., 0., 0., ..., 0., 0., 0.]], dtype=float32),\n  array([3, 8, 6, ..., 5, 6, 8])),\n (array([[0., 0., 0., ..., 0., 0., 0.],\n         [0., 0., 0., ..., 0., 0., 0.],\n         [0., 0., 0., ..., 0., 0., 0.],\n         ...,\n         [0., 0., 0., ..., 0., 0., 0.],\n         [0., 0., 0., ..., 0., 0., 0.],\n         [0., 0., 0., ..., 0., 0., 0.]], dtype=float32),\n  array([7, 2, 1, ..., 4, 5, 6])))"
          },
          "metadata": {}
        }
      ]
    },
    {
      "metadata": {
        "trusted": true,
        "_uuid": "6f33aac37004e9f61b716b3e47d5ff67081dbfcf",
        "_kg_hide-output": true,
        "scrolled": true
      },
      "cell_type": "code",
      "source": "print('Unzip pickle dataset len: %s, type: %s ' %(len(a), type(a)))\nfor idx,value in enumerate(a):\n    print('in tuple[%s]:\\n len=%s (data + label), \\n\\n data: len(data)=%s \\n %s, \\n each data row len=%s,\\n\\n label:\\n %s' %\n          (idx,len(value),len(value[0]),value[0], len(value[0][0]),value[1]))\n    print('-----'*10)\n",
      "execution_count": 81,
      "outputs": [
        {
          "output_type": "stream",
          "text": "Unzip pickle dataset len: 3, type: <class 'tuple'> \nin tuple[0]:\n len=2 (data + label), \n\n data: len(data)=50000 \n [[0. 0. 0. ... 0. 0. 0.]\n [0. 0. 0. ... 0. 0. 0.]\n [0. 0. 0. ... 0. 0. 0.]\n ...\n [0. 0. 0. ... 0. 0. 0.]\n [0. 0. 0. ... 0. 0. 0.]\n [0. 0. 0. ... 0. 0. 0.]], \n each data row len=784,\n\n label:\n [5 0 4 ... 8 4 8]\n--------------------------------------------------\nin tuple[1]:\n len=2 (data + label), \n\n data: len(data)=10000 \n [[0. 0. 0. ... 0. 0. 0.]\n [0. 0. 0. ... 0. 0. 0.]\n [0. 0. 0. ... 0. 0. 0.]\n ...\n [0. 0. 0. ... 0. 0. 0.]\n [0. 0. 0. ... 0. 0. 0.]\n [0. 0. 0. ... 0. 0. 0.]], \n each data row len=784,\n\n label:\n [3 8 6 ... 5 6 8]\n--------------------------------------------------\nin tuple[2]:\n len=2 (data + label), \n\n data: len(data)=10000 \n [[0. 0. 0. ... 0. 0. 0.]\n [0. 0. 0. ... 0. 0. 0.]\n [0. 0. 0. ... 0. 0. 0.]\n ...\n [0. 0. 0. ... 0. 0. 0.]\n [0. 0. 0. ... 0. 0. 0.]\n [0. 0. 0. ... 0. 0. 0.]], \n each data row len=784,\n\n label:\n [7 2 1 ... 4 5 6]\n--------------------------------------------------\n",
          "name": "stdout"
        }
      ]
    },
    {
      "metadata": {
        "trusted": true,
        "_uuid": "4f4dffe27ecb724e22288b2a6014fc930ebb4e19"
      },
      "cell_type": "code",
      "source": "with gzip.open('../input/mnist.pkl.gz') as f:\n    train_data, valid_data, test_data = pickle.load(f, encoding='bytes')\nprint(train_data[0].shape)\nprint(train_data[1].shape)",
      "execution_count": 87,
      "outputs": [
        {
          "output_type": "stream",
          "text": "(50000, 784)\n(50000,)\n",
          "name": "stdout"
        }
      ]
    },
    {
      "metadata": {
        "trusted": true,
        "_uuid": "c565fa1a5ea416d0f208efddf99ae15d981bc136"
      },
      "cell_type": "code",
      "source": "np.random.choice(100,3)",
      "execution_count": 91,
      "outputs": [
        {
          "output_type": "execute_result",
          "execution_count": 91,
          "data": {
            "text/plain": "array([99, 23,  2])"
          },
          "metadata": {}
        }
      ]
    },
    {
      "metadata": {
        "trusted": true,
        "_uuid": "93624fcfa45825b1bd12d694ab2a0c0e2404ed50"
      },
      "cell_type": "code",
      "source": "np.random.seed(0)\ntrain_idx = np.random.choice(len(train_data[0]), 3)\nprint(train_idx)\ntrain_sample = train_data[0][train_idx]\ntrain_label = train_data[1][train_idx]\nprint(train_sample)\nprint(train_label)\nfor i,v in enumerate(train_sample):\n    plot(v, train_label[i])",
      "execution_count": 113,
      "outputs": [
        {
          "output_type": "stream",
          "text": "[ 2732 43567 42613]\n[[0. 0. 0. ... 0. 0. 0.]\n [0. 0. 0. ... 0. 0. 0.]\n [0. 0. 0. ... 0. 0. 0.]]\n[4 1 7]\n",
          "name": "stdout"
        },
        {
          "output_type": "display_data",
          "data": {
            "text/plain": "<Figure size 432x288 with 1 Axes>",
            "image/png": "[encoded data removed]"
          },
          "metadata": {
            "needs_background": "light"
          }
        },
        {
          "output_type": "display_data",
          "data": {
            "text/plain": "<Figure size 432x288 with 1 Axes>",
            "image/png": "[encoded data removed]"
          },
          "metadata": {
            "needs_background": "light"
          }
        },
        {
          "output_type": "display_data",
          "data": {
            "text/plain": "<Figure size 432x288 with 1 Axes>",
            "image/png": "[encoded data removed]"
          },
          "metadata": {
            "needs_background": "light"
          }
        }
      ]
    },
    {
      "metadata": {
        "trusted": true,
        "_uuid": "08d05699055f9ed75452a209c488f072034482db"
      },
      "cell_type": "code",
      "source": "import matplotlib.pyplot as plt\ndef plot(arr_784, label):\n    arr_28 = arr_784.reshape(-1,28)\n    plt.imshow(arr_28, cmap=plt.cm.Greys)\n    plt.title(label)\n    plt.show()\n    ",
      "execution_count": 112,
      "outputs": []
    },
    {
      "metadata": {
        "trusted": true,
        "_uuid": "c8cec5a3fc0eb419659f9d985c1e59e3b3cc3ed2"
      },
      "cell_type": "code",
      "source": "",
      "execution_count": null,
      "outputs": []
    }
  ],
  "metadata": {
    "kernelspec": {
      "display_name": "Python 3",
      "language": "python",
      "name": "python3"
    },
    "language_info": {
      "name": "python",
      "version": "3.6.6",
      "mimetype": "text/x-python",
      "codemirror_mode": {
        "name": "ipython",
        "version": 3
      },
      "pygments_lexer": "ipython3",
      "nbconvert_exporter": "python",
      "file_extension": ".py"
    }
  },
  "nbformat": 4,
  "nbformat_minor": 1
}